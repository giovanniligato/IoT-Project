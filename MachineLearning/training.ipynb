{
 "cells": [
  {
   "cell_type": "code",
   "execution_count": 6,
   "metadata": {},
   "outputs": [
    {
     "data": {
      "text/plain": [
       "(         co   humidity       temp  habitable\n",
       " 0  0.004956  51.000000  22.700000          0\n",
       " 1  0.002840  76.000000  19.700001          1\n",
       " 2  0.004976  50.900000  22.600000          0\n",
       " 3  0.004403  76.800003  27.000000          0\n",
       " 4  0.004967  50.900000  22.600000          0,\n",
       " habitable\n",
       " 0    294739\n",
       " 1    110445\n",
       " Name: count, dtype: int64)"
      ]
     },
     "execution_count": 6,
     "metadata": {},
     "output_type": "execute_result"
    }
   ],
   "source": [
    "import pandas as pd\n",
    "\n",
    "# Load the dataset\n",
    "file_path = 'iot_telemetry_data.csv'\n",
    "data = pd.read_csv(file_path)\n",
    "\n",
    "# Clean the dataset: drop unnecessary columns\n",
    "data_cleaned = data.drop(columns=['ts', 'device', 'light', 'lpg', 'motion', 'smoke'])\n",
    "\n",
    "# Add a column 'habitable' based on the given conditions\n",
    "conditions = (data_cleaned['temp'] < 21) & (data_cleaned['humidity'] < 80) & (data_cleaned['co'] < 0.009)\n",
    "data_cleaned['habitable'] = conditions.astype(int)\n",
    "\n",
    "# Count the number of elements with 'habitable' set to 1 and 0\n",
    "habitable_count = data_cleaned['habitable'].value_counts()\n",
    "\n",
    "# Display the cleaned dataset and the count\n",
    "data_cleaned.head(), habitable_count"
   ]
  },
  {
   "cell_type": "markdown",
   "metadata": {},
   "source": [
    "1.\tImportazione delle librerie: Importiamo le librerie necessarie per l’analisi dei dati (pandas), la suddivisione dei dati(train_test_split), la classificazione (RandomForestClassifier), la valutazione del modello (classification_report, accuracy_score) e ilsalvataggio del modello (joblib).\n",
    "2.\tCaricamento e Pulizia dei Dati: Carichiamo il dataset e rimuoviamo le colonne non necessarie. Aggiungiamo una colonna habitable basata suicriteri forniti.\n",
    "3.\tPreparazione dei Dati per l’Addestramento: Selezioniamo le caratteristiche (temp, humidity, co) e il target (habitable). Dividiamo i datiin set di addestramento e di test.\n",
    "4.\tAddestramento del Modello: Utilizziamo un RandomForestClassifier per addestrare il modello sui dati di addestramento.\n",
    "5.\tValutazione del Modello: Effettuiamo previsioni sui dati di test e valutiamo le performance del modello calcolando l’accuratezza egenerando un report di classificazione.\n",
    "6.\tSalvataggio del Modello: Salviamo il modello addestrato utilizzando joblib.\n"
   ]
  },
  {
   "cell_type": "code",
   "execution_count": 9,
   "metadata": {},
   "outputs": [
    {
     "name": "stdout",
     "output_type": "stream",
     "text": [
      "Accuracy:  1.0\n",
      "              precision    recall  f1-score   support\n",
      "\n",
      "           0       1.00      1.00      1.00     58959\n",
      "           1       1.00      1.00      1.00     22078\n",
      "\n",
      "    accuracy                           1.00     81037\n",
      "   macro avg       1.00      1.00      1.00     81037\n",
      "weighted avg       1.00      1.00      1.00     81037\n",
      "\n"
     ]
    }
   ],
   "source": [
    "from sklearn.model_selection import train_test_split\n",
    "from sklearn.ensemble import RandomForestClassifier\n",
    "from sklearn.metrics import classification_report, accuracy_score\n",
    "\n",
    "# Preparazione dei dati per l'addestramento\n",
    "features = data_cleaned[['temp', 'humidity', 'co']]\n",
    "target = data_cleaned['habitable']\n",
    "\n",
    "# Divisione dei dati in train e test set\n",
    "X_train, X_test, y_train, y_test = train_test_split(features, target, test_size=0.2, random_state=42)\n",
    "\n",
    "# Addestramento del modello con un RandomForestClassifier\n",
    "rf_classifier = RandomForestClassifier(n_estimators=100, random_state=42)\n",
    "rf_classifier.fit(X_train, y_train)\n",
    "\n",
    "# Previsioni sul test set\n",
    "predictions = rf_classifier.predict(X_test)\n",
    "\n",
    "# Valutazione del modello\n",
    "accuracy = accuracy_score(y_test, predictions)\n",
    "report = classification_report(y_test, predictions)\n",
    "\n",
    "print('Accuracy: ', accuracy)\n",
    "print(report)"
   ]
  },
  {
   "cell_type": "code",
   "execution_count": 10,
   "metadata": {},
   "outputs": [
    {
     "name": "stdout",
     "output_type": "stream",
     "text": [
      "Wrote model to machine_learning.h\n"
     ]
    }
   ],
   "source": [
    "import emlearn\n",
    "\n",
    "path = 'machine_learning.h'\n",
    "\n",
    "cmodel = emlearn.convert(rf_classifier, method='inline')\n",
    "\n",
    "cmodel.save(file=path, name='machine_learning')\n",
    "\n",
    "print('Wrote model to', path)"
   ]
  }
 ],
 "metadata": {
  "kernelspec": {
   "display_name": "DMML",
   "language": "python",
   "name": "python3"
  },
  "language_info": {
   "codemirror_mode": {
    "name": "ipython",
    "version": 3
   },
   "file_extension": ".py",
   "mimetype": "text/x-python",
   "name": "python",
   "nbconvert_exporter": "python",
   "pygments_lexer": "ipython3",
   "version": "3.11.5"
  }
 },
 "nbformat": 4,
 "nbformat_minor": 2
}
