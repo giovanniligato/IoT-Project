{
 "cells": [
  {
   "cell_type": "markdown",
   "metadata": {},
   "source": [
    "# VoltVault Machine Learning Model\n",
    "\n",
    "This notebook demonstrates a simple implementation of a machine learning model designed to classify the conditions of a batteries room based on data collected from various sensors.\n",
    "\n",
    "The model is trained using the dataset from [Kaggle - Environmental Sensor Data](https://www.kaggle.com/datasets/garystafford/environmental-sensor-data-132k).\n",
    "\n",
    "In the preprocessing step, the data is cleaned and relevant features are extracted. Additionally, a new column is added to the dataset to define the condition of the batteries room based on predefined policies."
   ]
  },
  {
   "cell_type": "markdown",
   "metadata": {},
   "source": [
    "### Preprocessing\n",
    "\n",
    "1. **Import pandas library**: The pandas library is imported to handle data manipulation and analysis.\n",
    "   \n",
    "2. **Load the dataset**: The dataset is loaded from a CSV file named `iot_telemetry_data.csv` into a DataFrame named `data`.\n",
    "\n",
    "3. **Clean the dataset**: Unnecessary columns (`'ts'`, `'device'`, `'light'`, `'lpg'`, `'motion'`, `'smoke'`) are dropped from the DataFrame to focus on relevant data.\n",
    "\n",
    "4. **Add 'habitable' column**: A new column named 'habitable' is added to the cleaned DataFrame based on specific conditions:\n",
    "   - Temperature (`'temp'`) must be less than 21.\n",
    "   - Humidity (`'humidity'`) must be less than 80.\n",
    "   - Carbon monoxide (`'co'`) level must be less than 0.009.\n",
    "   If all conditions are met, the environment is considered habitable and the column is set to 1; otherwise, it is set to 0.\n",
    "\n",
    "5. **Count habitable elements**: The number of elements that are considered habitable (1) and not habitable (0) is counted.\n",
    "\n",
    "6. **Display results**: The first five rows of the cleaned dataset and the count of habitable and not habitable elements are displayed.\n"
   ]
  },
  {
   "cell_type": "code",
   "execution_count": 6,
   "metadata": {},
   "outputs": [
    {
     "data": {
      "text/plain": [
       "(         co   humidity       temp  habitable\n",
       " 0  0.004956  51.000000  22.700000          0\n",
       " 1  0.002840  76.000000  19.700001          1\n",
       " 2  0.004976  50.900000  22.600000          0\n",
       " 3  0.004403  76.800003  27.000000          0\n",
       " 4  0.004967  50.900000  22.600000          0,\n",
       " habitable\n",
       " 0    294739\n",
       " 1    110445\n",
       " Name: count, dtype: int64)"
      ]
     },
     "execution_count": 6,
     "metadata": {},
     "output_type": "execute_result"
    }
   ],
   "source": [
    "import pandas as pd\n",
    "\n",
    "# Load the dataset\n",
    "file_path = 'iot_telemetry_data.csv'\n",
    "data = pd.read_csv(file_path)\n",
    "\n",
    "# Clean the dataset: drop unnecessary columns\n",
    "data_cleaned = data.drop(columns=['ts', 'device', 'light', 'lpg', 'motion', 'smoke'])\n",
    "\n",
    "# Add a column 'habitable' based on the given conditions\n",
    "conditions = (data_cleaned['temp'] < 21) & (data_cleaned['humidity'] < 80) & (data_cleaned['co'] < 0.009)\n",
    "data_cleaned['habitable'] = conditions.astype(int)\n",
    "\n",
    "# Count the number of elements with 'habitable' set to 1 and 0\n",
    "habitable_count = data_cleaned['habitable'].value_counts()\n",
    "\n",
    "# Display the cleaned dataset and the count\n",
    "data_cleaned.head(), habitable_count"
   ]
  },
  {
   "cell_type": "markdown",
   "metadata": {},
   "source": [
    "### Training\n",
    "\n",
    "1. **Import necessary libraries**: Import the required modules from scikit-learn:\n",
    "   - `train_test_split` from `sklearn.model_selection` for splitting the dataset into training and testing sets.\n",
    "   - `RandomForestClassifier` from `sklearn.ensemble` for training the model.\n",
    "   - `classification_report` and `accuracy_score` from `sklearn.metrics` for evaluating the model.\n",
    "\n",
    "2. **Prepare the data for training**:\n",
    "   - `features` contains the columns `['temp', 'humidity', 'co']` from `data_cleaned`, which are used as input variables for the model.\n",
    "   - `target` contains the `habitable` column from `data_cleaned`, which is the output variable the model will predict.\n",
    "\n",
    "3. **Split the data into training and testing sets**:\n",
    "   - `train_test_split` function is used to split the data into training set (`X_train` and `y_train`) and testing set (`X_test` and `y_test`).\n",
    "   - `test_size=0.2` indicates that 20% of the data will be used for testing, and the remaining 80% for training.\n",
    "   - `random_state=42` ensures reproducibility of the split.\n",
    "\n",
    "4. **Train the model using a RandomForestClassifier**:\n",
    "   - `rf_classifier` is instantiated with `n_estimators=100` (indicating 100 trees in the forest) and `random_state=42` for reproducibility.\n",
    "   - The `fit` method is called on `rf_classifier` with `X_train` and `y_train` to train the model.\n",
    "\n",
    "5. **Make predictions on the test set**:\n",
    "   - The `predict` method is called on `rf_classifier` with `X_test` to generate predictions (`predictions`).\n",
    "\n",
    "6. **Evaluate the model**:\n",
    "   - `accuracy_score` is used to calculate the accuracy of the model by comparing `y_test` with `predictions`.\n",
    "   - `classification_report` is used to generate a detailed report on the model's performance, including precision, recall, F1-score, and support for each class.\n",
    "\n",
    "7. **Print the results**:\n",
    "   - The accuracy score is printed.\n",
    "   - The classification report is printed, providing a comprehensive evaluation of the model's performance."
   ]
  },
  {
   "cell_type": "code",
   "execution_count": 9,
   "metadata": {},
   "outputs": [
    {
     "name": "stdout",
     "output_type": "stream",
     "text": [
      "Accuracy:  1.0\n",
      "              precision    recall  f1-score   support\n",
      "\n",
      "           0       1.00      1.00      1.00     58959\n",
      "           1       1.00      1.00      1.00     22078\n",
      "\n",
      "    accuracy                           1.00     81037\n",
      "   macro avg       1.00      1.00      1.00     81037\n",
      "weighted avg       1.00      1.00      1.00     81037\n",
      "\n"
     ]
    }
   ],
   "source": [
    "from sklearn.model_selection import train_test_split\n",
    "from sklearn.ensemble import RandomForestClassifier\n",
    "from sklearn.metrics import classification_report, accuracy_score\n",
    "\n",
    "# Preparazione dei dati per l'addestramento\n",
    "features = data_cleaned[['temp', 'humidity', 'co']]\n",
    "target = data_cleaned['habitable']\n",
    "\n",
    "# Divisione dei dati in train e test set\n",
    "X_train, X_test, y_train, y_test = train_test_split(features, target, test_size=0.2, random_state=42)\n",
    "\n",
    "# Addestramento del modello con un RandomForestClassifier\n",
    "rf_classifier = RandomForestClassifier(n_estimators=100, random_state=42)\n",
    "rf_classifier.fit(X_train, y_train)\n",
    "\n",
    "# Previsioni sul test set\n",
    "predictions = rf_classifier.predict(X_test)\n",
    "\n",
    "# Valutazione del modello\n",
    "accuracy = accuracy_score(y_test, predictions)\n",
    "report = classification_report(y_test, predictions)\n",
    "\n",
    "print('Accuracy: ', accuracy)\n",
    "print(report)"
   ]
  },
  {
   "cell_type": "markdown",
   "metadata": {},
   "source": [
    "### Exporting the Model to C Code\n",
    "\n",
    "The following Python code uses the `emlearn` library to convert the trained RandomForestClassifier model into C code. This is done for deploying the model into the nrf52840 microcontroller.\n"
   ]
  },
  {
   "cell_type": "code",
   "execution_count": 10,
   "metadata": {},
   "outputs": [
    {
     "name": "stdout",
     "output_type": "stream",
     "text": [
      "Wrote model to machine_learning.h\n"
     ]
    }
   ],
   "source": [
    "import emlearn\n",
    "\n",
    "path = 'machine_learning.h'\n",
    "\n",
    "cmodel = emlearn.convert(rf_classifier, method='inline')\n",
    "\n",
    "cmodel.save(file=path, name='machine_learning')\n",
    "\n",
    "print('Wrote model to', path)"
   ]
  }
 ],
 "metadata": {
  "kernelspec": {
   "display_name": "DMML",
   "language": "python",
   "name": "python3"
  },
  "language_info": {
   "codemirror_mode": {
    "name": "ipython",
    "version": 3
   },
   "file_extension": ".py",
   "mimetype": "text/x-python",
   "name": "python",
   "nbconvert_exporter": "python",
   "pygments_lexer": "ipython3",
   "version": "3.11.5"
  }
 },
 "nbformat": 4,
 "nbformat_minor": 2
}
